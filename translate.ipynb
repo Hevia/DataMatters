{
 "cells": [
  {
   "cell_type": "code",
   "execution_count": 6,
   "metadata": {},
   "outputs": [],
   "source": [
    "import json\n",
    "from googletrans import Translator"
   ]
  },
  {
   "cell_type": "code",
   "execution_count": 2,
   "metadata": {},
   "outputs": [],
   "source": [
    "with open('./data/hate_speech.json', 'r', encoding=\"utf-8\") as json_file:\n",
    "    hate_speech = json.load(json_file)"
   ]
  },
  {
   "cell_type": "code",
   "execution_count": 14,
   "metadata": {},
   "outputs": [],
   "source": [
    "english_hate_speech = [key for key in hate_speech[\"english\"].keys()]"
   ]
  },
  {
   "cell_type": "code",
   "execution_count": 15,
   "metadata": {},
   "outputs": [],
   "source": [
    "translator = Translator()"
   ]
  },
  {
   "cell_type": "code",
   "execution_count": 17,
   "metadata": {},
   "outputs": [],
   "source": [
    "translations = translator.translate(english_hate_speech, src='en', dest='fr')"
   ]
  },
  {
   "cell_type": "code",
   "execution_count": 23,
   "metadata": {},
   "outputs": [],
   "source": [
    "fr_words = [translation.text for translation in translations]"
   ]
  },
  {
   "cell_type": "code",
   "execution_count": 20,
   "metadata": {},
   "outputs": [],
   "source": [
    "ar_translations = translator.translate(english_hate_speech, src='en', dest='ar')"
   ]
  },
  {
   "cell_type": "code",
   "execution_count": 21,
   "metadata": {},
   "outputs": [],
   "source": [
    "ar_words = [translation.text for translation in ar_translations]"
   ]
  },
  {
   "cell_type": "code",
   "execution_count": 25,
   "metadata": {},
   "outputs": [],
   "source": [
    "paired_fr_words = dict(zip(english_hate_speech, fr_words))\n",
    "paired_ar_words = dict(zip(english_hate_speech, ar_words))"
   ]
  },
  {
   "cell_type": "code",
   "execution_count": 29,
   "metadata": {},
   "outputs": [],
   "source": [
    "new_hate_speech = {}\n",
    "\n",
    "# copy the english dict as is\n",
    "new_hate_speech[\"english\"] = hate_speech[\"english\"]\n",
    "new_hate_speech[\"french\"] = {}\n",
    "new_hate_speech[\"arabic\"] = {}\n",
    "\n",
    "# add the french translations\n",
    "for english_word, french_word in paired_fr_words.items():\n",
    "    new_hate_speech[\"french\"][french_word] = hate_speech[\"english\"][english_word]\n",
    "\n",
    "# add the arabic translations\n",
    "for english_word, arabic_word in paired_ar_words.items():\n",
    "    new_hate_speech[\"arabic\"][arabic_word] = hate_speech[\"english\"][english_word]"
   ]
  },
  {
   "cell_type": "code",
   "execution_count": 30,
   "metadata": {},
   "outputs": [],
   "source": [
    "# overwrite the old file\n",
    "with open('./data/hate_speech.json', 'w', encoding=\"utf-8\") as json_file:\n",
    "    json.dump(new_hate_speech, json_file, indent=4, ensure_ascii=False)"
   ]
  },
  {
   "cell_type": "code",
   "execution_count": null,
   "metadata": {},
   "outputs": [],
   "source": []
  }
 ],
 "metadata": {
  "kernelspec": {
   "display_name": "venv",
   "language": "python",
   "name": "python3"
  },
  "language_info": {
   "codemirror_mode": {
    "name": "ipython",
    "version": 3
   },
   "file_extension": ".py",
   "mimetype": "text/x-python",
   "name": "python",
   "nbconvert_exporter": "python",
   "pygments_lexer": "ipython3",
   "version": "3.11.9"
  }
 },
 "nbformat": 4,
 "nbformat_minor": 2
}

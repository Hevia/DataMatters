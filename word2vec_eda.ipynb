{
 "cells": [
  {
   "cell_type": "code",
   "execution_count": 2,
   "metadata": {},
   "outputs": [],
   "source": [
    "from gensim.models import Word2Vec\n",
    "import json"
   ]
  },
  {
   "cell_type": "code",
   "execution_count": 4,
   "metadata": {},
   "outputs": [],
   "source": [
    "model = Word2Vec.load(\"./output/W2V_hate_speech.model\")"
   ]
  },
  {
   "cell_type": "code",
   "execution_count": 5,
   "metadata": {},
   "outputs": [],
   "source": [
    "with open('./data/hate_speech.json', 'r', encoding=\"utf-8\") as json_file:\n",
    "    hate_speech = json.load(json_file)"
   ]
  },
  {
   "cell_type": "code",
   "execution_count": 6,
   "metadata": {},
   "outputs": [],
   "source": [
    "def grab_most_similar(model, word, n=10):\n",
    "    try:\n",
    "        sims = model.wv.most_similar(word, topn=n)\n",
    "        return [result[0] for result in sims]\n",
    "    except KeyError:\n",
    "        return []\n",
    "\n",
    "results_dict = {}\n",
    "\n",
    "for lang in hate_speech:\n",
    "    for word in hate_speech[lang]:\n",
    "        results_dict[word] = grab_most_similar(model, word)"
   ]
  },
  {
   "cell_type": "code",
   "execution_count": 9,
   "metadata": {},
   "outputs": [
    {
     "name": "stdout",
     "output_type": "stream",
     "text": [
      "Number of times a word from the results dict contains a word from hate_speech dict within its top-10 similar words: 87\n"
     ]
    }
   ],
   "source": [
    "count = 0\n",
    "\n",
    "for word in results_dict:\n",
    "    for similar_word in results_dict[word]:\n",
    "        for lang in hate_speech:\n",
    "            if similar_word in hate_speech[lang]:\n",
    "                count += 1\n",
    "\n",
    "print(f\"Number of times a word from the results dict contains a word from hate_speech dict within its top-10 similar words: {count}\")"
   ]
  },
  {
   "cell_type": "code",
   "execution_count": null,
   "metadata": {},
   "outputs": [],
   "source": []
  }
 ],
 "metadata": {
  "kernelspec": {
   "display_name": "venv",
   "language": "python",
   "name": "python3"
  },
  "language_info": {
   "codemirror_mode": {
    "name": "ipython",
    "version": 3
   },
   "file_extension": ".py",
   "mimetype": "text/x-python",
   "name": "python",
   "nbconvert_exporter": "python",
   "pygments_lexer": "ipython3",
   "version": "3.11.9"
  }
 },
 "nbformat": 4,
 "nbformat_minor": 2
}
